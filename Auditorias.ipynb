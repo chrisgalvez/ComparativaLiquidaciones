{
 "cells": [
  {
   "cell_type": "code",
   "execution_count": 278,
   "id": "c4cdbf91-4e85-4831-a884-3e07b5324311",
   "metadata": {},
   "outputs": [],
   "source": [
    "import pandas as pd\n",
    "import pyodbc as mssql"
   ]
  },
  {
   "cell_type": "code",
   "execution_count": 279,
   "id": "70edab51-6f8d-45f1-9489-af5a7489de41",
   "metadata": {},
   "outputs": [],
   "source": [
    "conn = mssql.connect(\"DRIVER={SQL SERVER};SERVER=IPSBD;DATABASE=LIQUIDACION;Trusted_Connection=Yes;\")\n",
    "auditorias = pd.read_sql(\"SELECT * FROM AUDIT A WHERE FECHA >= 44562 AND A.ORIGEN='D' AND A.TIPO='M'\", conn)\n",
    "campos = pd.read_sql(\"\"\"SELECT c.* FROM AUDIT A INNER JOIN CAMPOS C ON C.AUDIT=A.AUDIT WHERE FECHA >= 44562 AND A.ORIGEN='D' \n",
    "                     AND A.TIPO='M' and campo IN ('BENEFICIO','BENEFICIO(ANT)')\"\"\", conn)"
   ]
  },
  {
   "cell_type": "code",
   "execution_count": 280,
   "id": "ec655adf-4ba6-4b73-a308-667e974ccc34",
   "metadata": {},
   "outputs": [],
   "source": [
    "campos.set_index(inplace=True, keys=[\"Audit\", \"Campo\"])\n"
   ]
  },
  {
   "cell_type": "code",
   "execution_count": 281,
   "id": "e4e605d8-e766-456e-be1d-304806a01b68",
   "metadata": {},
   "outputs": [],
   "source": [
    "campos = campos.unstack(\"Campo\")\n",
    "campos.columns = [\"BENEFICIO\", \"BENEFICIO(ANT)\"]"
   ]
  },
  {
   "cell_type": "code",
   "execution_count": 282,
   "id": "21a8a624-8398-4365-a195-c16109159b92",
   "metadata": {},
   "outputs": [],
   "source": [
    "campos[\"BENEFICIO\"] = campos[\"BENEFICIO\"].apply(lambda x: x.replace(\",\",\".\"))\n",
    "campos[\"BENEFICIO(ANT)\"] = campos[\"BENEFICIO(ANT)\"].apply(lambda x: x.replace(\",\",\".\"))"
   ]
  },
  {
   "cell_type": "code",
   "execution_count": 283,
   "id": "599b2ec3-50be-4916-b3b7-e9e7daea454d",
   "metadata": {},
   "outputs": [],
   "source": [
    "campos[\"BENEFICIO\"] = campos[\"BENEFICIO\"].astype(float)\n",
    "campos[\"BENEFICIO(ANT)\"] = campos[\"BENEFICIO(ANT)\"].astype(float)"
   ]
  },
  {
   "cell_type": "code",
   "execution_count": 284,
   "id": "8ef7267e-81ac-4275-b42f-d9120b0f864e",
   "metadata": {},
   "outputs": [],
   "source": [
    "auditorias=auditorias.merge(right=campos, on=\"Audit\")"
   ]
  },
  {
   "cell_type": "code",
   "execution_count": 285,
   "id": "783f31d5-f004-48ec-8402-ce56ca412d11",
   "metadata": {},
   "outputs": [],
   "source": [
    "#auditorias[auditorias[\"BENEFICIO\"] < (auditorias[\"BENEFICIO(ANT)\"] + (auditorias[\"BENEFICIO(ANT)\"] * 0.35))]\n",
    "auditorias = auditorias[auditorias[\"BENEFICIO\"] < auditorias[\"BENEFICIO(ANT)\"]]"
   ]
  },
  {
   "cell_type": "code",
   "execution_count": 288,
   "id": "5094f346-57ee-4aca-b05d-1baf755e69c2",
   "metadata": {},
   "outputs": [],
   "source": []
  }
 ],
 "metadata": {
  "kernelspec": {
   "display_name": "Python 3",
   "language": "python",
   "name": "python3"
  },
  "language_info": {
   "codemirror_mode": {
    "name": "ipython",
    "version": 3
   },
   "file_extension": ".py",
   "mimetype": "text/x-python",
   "name": "python",
   "nbconvert_exporter": "python",
   "pygments_lexer": "ipython3",
   "version": "3.9.12"
  }
 },
 "nbformat": 4,
 "nbformat_minor": 5
}

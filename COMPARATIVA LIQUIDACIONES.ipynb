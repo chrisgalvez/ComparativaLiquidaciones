{
 "cells": [
  {
   "cell_type": "markdown",
   "metadata": {
    "tags": []
   },
   "source": [
    "# CHEQUEOS POST LIQUIDACION"
   ]
  },
  {
   "cell_type": "markdown",
   "metadata": {},
   "source": [
    "### Obtencion de Datos"
   ]
  },
  {
   "cell_type": "code",
   "execution_count": 96,
   "metadata": {
    "tags": [
     "hide-input"
    ]
   },
   "outputs": [],
   "source": [
    "import pyodbc as mssql\n",
    "import numpy as np\n",
    "import pandas as pd\n",
    "%config IPCompleter.greedy=True\n",
    "pd.set_option('display.float_format', lambda x: '%.2f' % x)\n",
    "from IPython.display import Markdown as md"
   ]
  },
  {
   "cell_type": "code",
   "execution_count": 97,
   "metadata": {
    "tags": [
     "hide-input"
    ]
   },
   "outputs": [],
   "source": [
    "liquidacion = '2022-04'\n",
    "minimo_general = 14102.10\n",
    "minimo_policias = 44538.11\n",
    "promedio_incrementos = 10.00/100.00\n",
    "excluir_reparticiones_minimo_garantizado = [17, 26]\n",
    "\n",
    "altas_desde = ''\n",
    "#      no estaban incorporados a 04-2022                                                v    v    v    v     v    \n",
    "codigos_bruto = ['0Q','0R','0N','0S','LC','OC','PC','QC','TC','U0','MC','PA','TE','XX','PX','MX','YX','NX','1X']\n",
    "# codigos_bruto = ['0Q','0R','0N','0S','LC','OC','PC','QC','TC','U0','MC','PA','TE']"
   ]
  },
  {
   "cell_type": "code",
   "execution_count": 98,
   "metadata": {},
   "outputs": [],
   "source": [
    "conn = mssql.connect(\"DRIVER={SQL SERVER};SERVER=IPSBD;DATABASE=LIQUIDACION;;Trusted_Connection=Yes;\")"
   ]
  },
  {
   "cell_type": "markdown",
   "metadata": {
    "tags": []
   },
   "source": [
    "#### Obtención de la fecha de alta de la liquidacion seleccionada"
   ]
  },
  {
   "cell_type": "code",
   "execution_count": 99,
   "metadata": {},
   "outputs": [
    {
     "name": "stdout",
     "output_type": "stream",
     "text": [
      "ALTAS DESDE: 19/04/2022\n"
     ]
    }
   ],
   "source": [
    "from datetime import datetime\n",
    "altas_desde = pd.read_sql(\"\"\"SELECT create_date FROM SYS.DATABASES\n",
    "WHERE NAME like '%{liquidacion}%'\"\"\".format(liquidacion=liquidacion),conn)[\"create_date\"][0].strftime('%d/%m/%Y')\n",
    "print(\"ALTAS DESDE: {altas_desde}\".format(altas_desde=altas_desde))"
   ]
  },
  {
   "cell_type": "markdown",
   "metadata": {
    "tags": []
   },
   "source": [
    "#### Obtención de Datos Generales"
   ]
  },
  {
   "cell_type": "code",
   "execution_count": 100,
   "metadata": {},
   "outputs": [],
   "source": [
    "codigos = pd.read_sql( \"SELECT * FROM CODIGOS\", conn, index_col=\"CODIGO\")\n",
    "reparticion = pd.read_sql( \"SELECT * FROM REPARTICION\", conn, index_col=\"Cod\" )\n",
    "tipos_beneficio = pd.read_sql ( \"SELECT * FROM BENEFICIO\", conn, index_col=\"Cod\" )\n",
    "\n",
    "auditorias = pd.read_sql( \"\"\"SELECT CONTROL FROM AUDIT A WHERE A.TIPO IN ('A', 'M') AND\n",
    "A.ORIGEN='D' AND A.FECHA > CONVERT(int, CONVERT(datetime, '{altas_desde}'))-2\"\"\".format(altas_desde=altas_desde), conn)\n",
    "\n",
    "beneficios = pd.read_sql( \"\"\"SELECT CONTROL, PLLA, ORDEN, AFILIADO, BENEFICIO, COD_BENEFICIO, LETRA,\n",
    "CASE WHEN COD_BENEFICIO in (7,25,27,29) then DBO.PORCENTAJE_COMPARTIDA(CONTROL) ELSE 1 END AS PORCENTAJE\n",
    "FROM Liquidacion.dbo.DatosAfiliado\n",
    "WHERE HABILITADO='S'\"\"\", conn, index_col=\"CONTROL\")\n",
    "beneficios[[\"COD_BENEFICIO\"]]=beneficios[[\"COD_BENEFICIO\"]].astype(\"int64\")\n",
    "### Excluímos las auditorias de altas y modificaciones para evitar las \"deformaciones\"\n",
    "beneficios = beneficios[~beneficios.isin(auditorias[\"CONTROL\"])]\n",
    "liquidacion_ben = pd.read_sql(\"\"\" SELECT * FROM LIQUIDACION.DBO.LIQUIDACION\"\"\", conn, index_col=[\"PLLA\", \"ORDEN\", \"AFILIADO\"])\n",
    "beneficios_liq = pd.read_sql(\"SELECT * FROM [{liquidacion}].DBO.DATOSAFILIADO\".format(liquidacion=liquidacion), \\\n",
    "                             conn, index_col=[\"CONTROL\"])\n",
    "liquidacion_liq = pd.read_sql(\"SELECT * FROM [{liquidacion}].DBO.LIQUIDACION\".format(liquidacion=liquidacion), \\\n",
    "                                conn, index_col=[\"PLLA\", \"ORDEN\", \"AFILIADO\"])\n"
   ]
  },
  {
   "cell_type": "markdown",
   "metadata": {
    "tags": []
   },
   "source": [
    "### Determinacion de brutos"
   ]
  },
  {
   "cell_type": "markdown",
   "metadata": {
    "tags": []
   },
   "source": [
    "#### Determinacion de los brutos actuales"
   ]
  },
  {
   "cell_type": "code",
   "execution_count": 101,
   "metadata": {},
   "outputs": [],
   "source": [
    "### determinacion de la tabla de brutos de liquidacion activa\n",
    "brutos_act = beneficios.reset_index().merge(liquidacion_ben, left_on=[\"PLLA\", \"ORDEN\", \"AFILIADO\"],\\\n",
    "                              right_on=[\"PLLA\", \"ORDEN\", \"AFILIADO\"])\n",
    "brutos_act = brutos_act[brutos_act[\"CODIGO\"].isin(codigos_bruto)].groupby([\"CONTROL\"]).sum(\"MONTO\")[[\"MONTO\"]]\n",
    "# agrego aquellos que no tienen codigos de bruto\n",
    "brutos_act = brutos_act.join(beneficios,  how=\"outer\")\n",
    "brutos_act[\"MONTO\"].fillna(value=0.0, inplace=True)\n",
    "brutos_act[\"BRUTO\"] = brutos_act[\"MONTO\"] + brutos_act[\"BENEFICIO\"]\n",
    "# dejo solo la columna del bruto recien calculada\n",
    "brutos_act=brutos_act[[\"BRUTO\",\"BENEFICIO\", \"COD_BENEFICIO\", \"LETRA\"]]\n",
    "\n"
   ]
  },
  {
   "cell_type": "markdown",
   "metadata": {},
   "source": [
    "#### Determinación de los brutos de referencia"
   ]
  },
  {
   "cell_type": "code",
   "execution_count": 102,
   "metadata": {},
   "outputs": [],
   "source": [
    "###determinacion de la tabla de brutos de la liquidacion de referencia \n",
    "brutos_liq = beneficios_liq.join(liquidacion_liq, on=[\"PLLA\",\"ORDEN\",\"AFILIADO\"],how=\"inner\", rsuffix=\".LIQ\")\\\n",
    "        .join(codigos, on=[\"CODIGO\"], how=\"inner\", rsuffix=\".COD\")\n",
    "brutos_liq = brutos_liq[brutos_liq[\"CODIGO\"].isin(codigos_bruto)].groupby(by=\"CONTROL\").sum()[[\"MONTO\"]]\n",
    "brutos_liq = brutos_liq.join(beneficios_liq, on=\"CONTROL\", how=\"outer\")\n",
    "brutos_liq[\"MONTO\"].fillna(value=0.0, inplace=True)\n",
    "brutos_liq[\"BRUTO\"] = brutos_liq[\"MONTO\"] + brutos_liq[\"BENEFICIO\"]\n",
    "brutos_liq=brutos_liq[[\"CONTROL\", \"BRUTO\", \"BENEFICIO\"]]\n",
    "brutos_liq.set_index(keys=\"CONTROL\", inplace=True)\n",
    "brutos_liq=brutos_liq.sort_values(by=\"CONTROL\")\n"
   ]
  },
  {
   "cell_type": "markdown",
   "metadata": {},
   "source": [
    "### CALCULO Y COMPARATIVA DE LOS BRUTOS Y BENEFICIOS"
   ]
  },
  {
   "cell_type": "code",
   "execution_count": 103,
   "metadata": {},
   "outputs": [
    {
     "data": {
      "text/html": [
       "<div>\n",
       "<style scoped>\n",
       "    .dataframe tbody tr th:only-of-type {\n",
       "        vertical-align: middle;\n",
       "    }\n",
       "\n",
       "    .dataframe tbody tr th {\n",
       "        vertical-align: top;\n",
       "    }\n",
       "\n",
       "    .dataframe thead th {\n",
       "        text-align: right;\n",
       "    }\n",
       "</style>\n",
       "<table border=\"1\" class=\"dataframe\">\n",
       "  <thead>\n",
       "    <tr style=\"text-align: right;\">\n",
       "      <th></th>\n",
       "      <th>DIF_BRUTOS</th>\n",
       "      <th>DIF_BENEFICIOS</th>\n",
       "    </tr>\n",
       "    <tr>\n",
       "      <th>CONTROL</th>\n",
       "      <th></th>\n",
       "      <th></th>\n",
       "    </tr>\n",
       "  </thead>\n",
       "  <tbody>\n",
       "    <tr>\n",
       "      <th>36358</th>\n",
       "      <td>3.86</td>\n",
       "      <td>3.86</td>\n",
       "    </tr>\n",
       "    <tr>\n",
       "      <th>38235</th>\n",
       "      <td>3.63</td>\n",
       "      <td>3.84</td>\n",
       "    </tr>\n",
       "    <tr>\n",
       "      <th>72259</th>\n",
       "      <td>2.65</td>\n",
       "      <td>1.81</td>\n",
       "    </tr>\n",
       "    <tr>\n",
       "      <th>519</th>\n",
       "      <td>2.63</td>\n",
       "      <td>2.63</td>\n",
       "    </tr>\n",
       "    <tr>\n",
       "      <th>61584</th>\n",
       "      <td>2.20</td>\n",
       "      <td>1.81</td>\n",
       "    </tr>\n",
       "    <tr>\n",
       "      <th>...</th>\n",
       "      <td>...</td>\n",
       "      <td>...</td>\n",
       "    </tr>\n",
       "    <tr>\n",
       "      <th>57795</th>\n",
       "      <td>-0.09</td>\n",
       "      <td>0.14</td>\n",
       "    </tr>\n",
       "    <tr>\n",
       "      <th>72099</th>\n",
       "      <td>-0.42</td>\n",
       "      <td>0.10</td>\n",
       "    </tr>\n",
       "    <tr>\n",
       "      <th>69251</th>\n",
       "      <td>-0.66</td>\n",
       "      <td>0.10</td>\n",
       "    </tr>\n",
       "    <tr>\n",
       "      <th>72588</th>\n",
       "      <td>-0.71</td>\n",
       "      <td>0.10</td>\n",
       "    </tr>\n",
       "    <tr>\n",
       "      <th>72581</th>\n",
       "      <td>-0.71</td>\n",
       "      <td>0.10</td>\n",
       "    </tr>\n",
       "  </tbody>\n",
       "</table>\n",
       "<p>17777 rows × 2 columns</p>\n",
       "</div>"
      ],
      "text/plain": [
       "         DIF_BRUTOS  DIF_BENEFICIOS\n",
       "CONTROL                            \n",
       "36358          3.86            3.86\n",
       "38235          3.63            3.84\n",
       "72259          2.65            1.81\n",
       "519            2.63            2.63\n",
       "61584          2.20            1.81\n",
       "...             ...             ...\n",
       "57795         -0.09            0.14\n",
       "72099         -0.42            0.10\n",
       "69251         -0.66            0.10\n",
       "72588         -0.71            0.10\n",
       "72581         -0.71            0.10\n",
       "\n",
       "[17777 rows x 2 columns]"
      ]
     },
     "execution_count": 103,
     "metadata": {},
     "output_type": "execute_result"
    }
   ],
   "source": [
    "###comparativa \n",
    "\n",
    "brutos = brutos_liq.join( brutos_act, lsuffix=\"_liq\", rsuffix=\"_act\" )\n",
    "brutos[\"DIF_BRUTOS\"] = (brutos[\"BRUTO_act\"]-brutos[\"BRUTO_liq\"])/brutos[\"BRUTO_liq\"]\n",
    "brutos[\"DIF_BENEFICIOS\"] = (brutos[\"BENEFICIO_act\"]-brutos[\"BENEFICIO_liq\"])/brutos[\"BENEFICIO_liq\"]\n",
    "diferencia_brutos=brutos.loc[(brutos[\"DIF_BRUTOS\"] > promedio_incrementos) | (brutos[\"DIF_BENEFICIOS\"] > promedio_incrementos), [\"DIF_BRUTOS\",\"DIF_BENEFICIOS\"]].sort_values(by=\"DIF_BRUTOS\", ascending=False)\n",
    "\n",
    "diferencia_brutos[~brutos.isin(auditorias[\"CONTROL\"]) ]\n"
   ]
  },
  {
   "cell_type": "code",
   "execution_count": 104,
   "metadata": {},
   "outputs": [],
   "source": [
    "### POR REPARTICION ###\n",
    "\n",
    "inf_rep_letra = brutos.merge(reparticion, left_on=\"LETRA\", right_on=\"Cod\", how=\"inner\")\n",
    "inf_rep_letra = inf_rep_letra[['Detalle', 'BRUTO_liq', 'BENEFICIO_liq', 'BRUTO_act', 'BENEFICIO_act']].groupby(by=\"Detalle\").sum()\n",
    "inf_rep_letra[\"DIF_BRUTOS\"] = (inf_rep_letra[\"BRUTO_act\"]-inf_rep_letra[\"BRUTO_liq\"])/inf_rep_letra[\"BRUTO_liq\"]\n",
    "inf_rep_letra[\"DIF_BENEFICIOS\"] = (inf_rep_letra[\"BENEFICIO_act\"] - inf_rep_letra[\"BENEFICIO_liq\"])/inf_rep_letra[\"BENEFICIO_liq\"]\n",
    "\n",
    "inf_rep_letra.to_excel(\"comparativa.xlsx\")\n"
   ]
  },
  {
   "cell_type": "markdown",
   "metadata": {},
   "source": [
    "### Mínimos"
   ]
  },
  {
   "cell_type": "markdown",
   "metadata": {},
   "source": [
    "#### Mínimos Administración Central y Organismos"
   ]
  },
  {
   "cell_type": "code",
   "execution_count": 105,
   "metadata": {},
   "outputs": [],
   "source": [
    "minimos = beneficios.join( beneficios_liq, on=\"CONTROL\", lsuffix=\".BEN\", rsuffix=\".BENLIQ\" )\\\n",
    "            .join(reparticion, on=\"LETRA\" , rsuffix=\".REP\", )\\\n",
    "            .join(brutos, on=\"CONTROL\", rsuffix=\".BRT\")\n",
    "\n",
    "minimos[minimos[\"BRUTO_act\"] < minimo_general]\n",
    "minimos[\"ZX_act\"] = np.where((~minimos[\"LETRA\"].isin([17,26]) & (minimos[\"BRUTO_act\"] < minimo_general*minimos[\"PORCENTAJE\"])), minimo_general*minimos[\"PORCENTAJE\"]-minimos[\"BRUTO_act\"], 0.0)\n",
    "minimos.fillna(0, inplace=True)\n",
    "\n",
    "minimos_pagados = beneficios_liq.join(liquidacion_liq, on=[\"PLLA\",\"ORDEN\",\"AFILIADO\"],how=\"inner\", rsuffix=\".LIQ\")\\\n",
    "        .join(codigos, on=[\"CODIGO\"], how=\"inner\", rsuffix=\".COD\")\n",
    "\n",
    "minimos_pagados=minimos_pagados.loc[minimos_pagados[\"CODIGO\"].isin(['ZX']), [\"MONTO\"]].groupby(\"CONTROL\").sum(\"MONTO\").rename(columns={\"MONTO\":\"ZX_liq\"})\n",
    "\n",
    "minimos=minimos.join(minimos_pagados, on=\"CONTROL\", rsuffix=\".MINPAG\")\n",
    "minimos.fillna(0.0, inplace=True)\n",
    "minimos=minimos.loc[(np.abs(minimos[\"ZX_act\"]-minimos[\"ZX_liq\"])>1)  ,[\"BRUTO_act\", \"ZX_act\", \"BRUTO_liq\", \"ZX_liq\"]]\n",
    "\n",
    "minimos.to_excel(\"Minimos_Adm_Central\" + liquidacion + \".xlsx\")\n",
    "\n"
   ]
  },
  {
   "cell_type": "markdown",
   "metadata": {},
   "source": [
    "Mínimos Retiros Policiales y Carcelarios"
   ]
  },
  {
   "cell_type": "code",
   "execution_count": 106,
   "metadata": {
    "tags": [
     "hide-input"
    ]
   },
   "outputs": [
    {
     "data": {
      "text/html": [
       "<div>\n",
       "<style scoped>\n",
       "    .dataframe tbody tr th:only-of-type {\n",
       "        vertical-align: middle;\n",
       "    }\n",
       "\n",
       "    .dataframe tbody tr th {\n",
       "        vertical-align: top;\n",
       "    }\n",
       "\n",
       "    .dataframe thead th {\n",
       "        text-align: right;\n",
       "    }\n",
       "</style>\n",
       "<table border=\"1\" class=\"dataframe\">\n",
       "  <thead>\n",
       "    <tr style=\"text-align: right;\">\n",
       "      <th></th>\n",
       "      <th>Reparticion</th>\n",
       "      <th>TIPO_BEN</th>\n",
       "      <th>BRUTO_act</th>\n",
       "      <th>PX_act</th>\n",
       "      <th>BRUTO_liq</th>\n",
       "      <th>PX_liq</th>\n",
       "    </tr>\n",
       "    <tr>\n",
       "      <th>CONTROL</th>\n",
       "      <th></th>\n",
       "      <th></th>\n",
       "      <th></th>\n",
       "      <th></th>\n",
       "      <th></th>\n",
       "      <th></th>\n",
       "    </tr>\n",
       "  </thead>\n",
       "  <tbody>\n",
       "    <tr>\n",
       "      <th>1479</th>\n",
       "      <td>Retiro Policial</td>\n",
       "      <td>Jubilación por Retiro Voluntario</td>\n",
       "      <td>49048.51</td>\n",
       "      <td>0.00</td>\n",
       "      <td>44538.11</td>\n",
       "      <td>360.42</td>\n",
       "    </tr>\n",
       "    <tr>\n",
       "      <th>3236</th>\n",
       "      <td>Retiro Policial</td>\n",
       "      <td>Jubilación Ordinaria</td>\n",
       "      <td>49048.51</td>\n",
       "      <td>0.00</td>\n",
       "      <td>44538.11</td>\n",
       "      <td>2535.06</td>\n",
       "    </tr>\n",
       "    <tr>\n",
       "      <th>3414</th>\n",
       "      <td>Retiro Policial</td>\n",
       "      <td>Jubilación por Invalidez</td>\n",
       "      <td>49048.51</td>\n",
       "      <td>0.00</td>\n",
       "      <td>44538.11</td>\n",
       "      <td>2535.06</td>\n",
       "    </tr>\n",
       "    <tr>\n",
       "      <th>3418</th>\n",
       "      <td>Retiro Policial</td>\n",
       "      <td>Jubilación por Retiro anticipado</td>\n",
       "      <td>49048.51</td>\n",
       "      <td>0.00</td>\n",
       "      <td>44538.11</td>\n",
       "      <td>2535.06</td>\n",
       "    </tr>\n",
       "    <tr>\n",
       "      <th>3422</th>\n",
       "      <td>Retiro Policial</td>\n",
       "      <td>Jubilación por Invalidez</td>\n",
       "      <td>49048.51</td>\n",
       "      <td>0.00</td>\n",
       "      <td>44538.11</td>\n",
       "      <td>2535.06</td>\n",
       "    </tr>\n",
       "    <tr>\n",
       "      <th>...</th>\n",
       "      <td>...</td>\n",
       "      <td>...</td>\n",
       "      <td>...</td>\n",
       "      <td>...</td>\n",
       "      <td>...</td>\n",
       "      <td>...</td>\n",
       "    </tr>\n",
       "    <tr>\n",
       "      <th>73323</th>\n",
       "      <td>Retiro Policial</td>\n",
       "      <td>Pension Derivada</td>\n",
       "      <td>39530.41</td>\n",
       "      <td>5007.70</td>\n",
       "      <td>35578.09</td>\n",
       "      <td>0.00</td>\n",
       "    </tr>\n",
       "    <tr>\n",
       "      <th>73482</th>\n",
       "      <td>Retiro Policial</td>\n",
       "      <td>Menores Pensionados</td>\n",
       "      <td>41556.41</td>\n",
       "      <td>2981.70</td>\n",
       "      <td>37738.87</td>\n",
       "      <td>0.00</td>\n",
       "    </tr>\n",
       "    <tr>\n",
       "      <th>73493</th>\n",
       "      <td>Retiro Policial</td>\n",
       "      <td>Pension Automatica</td>\n",
       "      <td>42221.07</td>\n",
       "      <td>2317.04</td>\n",
       "      <td>38342.96</td>\n",
       "      <td>0.00</td>\n",
       "    </tr>\n",
       "    <tr>\n",
       "      <th>73497</th>\n",
       "      <td>Retiro Policial</td>\n",
       "      <td>Pension Automatica</td>\n",
       "      <td>36786.38</td>\n",
       "      <td>7751.73</td>\n",
       "      <td>33403.59</td>\n",
       "      <td>1781.79</td>\n",
       "    </tr>\n",
       "    <tr>\n",
       "      <th>73515</th>\n",
       "      <td>Retiro Policial</td>\n",
       "      <td>Pension Automatica</td>\n",
       "      <td>36786.38</td>\n",
       "      <td>7751.73</td>\n",
       "      <td>30436.89</td>\n",
       "      <td>0.00</td>\n",
       "    </tr>\n",
       "  </tbody>\n",
       "</table>\n",
       "<p>1776 rows × 6 columns</p>\n",
       "</div>"
      ],
      "text/plain": [
       "             Reparticion                          TIPO_BEN  BRUTO_act  PX_act  \\\n",
       "CONTROL                                                                         \n",
       "1479     Retiro Policial  Jubilación por Retiro Voluntario   49048.51    0.00   \n",
       "3236     Retiro Policial              Jubilación Ordinaria   49048.51    0.00   \n",
       "3414     Retiro Policial          Jubilación por Invalidez   49048.51    0.00   \n",
       "3418     Retiro Policial  Jubilación por Retiro anticipado   49048.51    0.00   \n",
       "3422     Retiro Policial          Jubilación por Invalidez   49048.51    0.00   \n",
       "...                  ...                               ...        ...     ...   \n",
       "73323    Retiro Policial                  Pension Derivada   39530.41 5007.70   \n",
       "73482    Retiro Policial               Menores Pensionados   41556.41 2981.70   \n",
       "73493    Retiro Policial                Pension Automatica   42221.07 2317.04   \n",
       "73497    Retiro Policial                Pension Automatica   36786.38 7751.73   \n",
       "73515    Retiro Policial                Pension Automatica   36786.38 7751.73   \n",
       "\n",
       "         BRUTO_liq  PX_liq  \n",
       "CONTROL                     \n",
       "1479      44538.11  360.42  \n",
       "3236      44538.11 2535.06  \n",
       "3414      44538.11 2535.06  \n",
       "3418      44538.11 2535.06  \n",
       "3422      44538.11 2535.06  \n",
       "...            ...     ...  \n",
       "73323     35578.09    0.00  \n",
       "73482     37738.87    0.00  \n",
       "73493     38342.96    0.00  \n",
       "73497     33403.59 1781.79  \n",
       "73515     30436.89    0.00  \n",
       "\n",
       "[1776 rows x 6 columns]"
      ]
     },
     "execution_count": 106,
     "metadata": {},
     "output_type": "execute_result"
    }
   ],
   "source": [
    "minimos = beneficios.join( beneficios_liq, on=\"CONTROL\", lsuffix=\".BEN\", rsuffix=\".BENLIQ\" )\\\n",
    "            .join(reparticion, on=\"LETRA\" , rsuffix=\".REP\", )\\\n",
    "            .join(brutos, on=\"CONTROL\", rsuffix=\".BRT\")\\\n",
    "            .join(tipos_beneficio, on=\"COD_BENEFICIO\", rsuffix=\".tb\")\n",
    "            \n",
    "\n",
    "minimos[minimos[\"BRUTO_act\"] < minimo_policias]\n",
    "minimos[\"PX_act\"] = np.where((minimos[\"LETRA\"].isin([17,26]) & (minimos[\"BRUTO_act\"] < minimo_policias*minimos[\"PORCENTAJE\"])), minimo_policias*minimos[\"PORCENTAJE\"]-minimos[\"BRUTO_act\"], 0.0)\n",
    "minimos.fillna(0, inplace=True)\n",
    "\n",
    "minimos_pagados = beneficios_liq.join(liquidacion_liq, on=[\"PLLA\",\"ORDEN\",\"AFILIADO\"],how=\"inner\", rsuffix=\".LIQ\")\\\n",
    "        .join(codigos, on=[\"CODIGO\"], how=\"inner\", rsuffix=\".COD\")\n",
    "\n",
    "minimos_pagados=minimos_pagados.loc[minimos_pagados[\"CODIGO\"].isin(['PX']), [\"MONTO\"]]\\\n",
    "        .groupby(\"CONTROL\").sum(\"MONTO\")\n",
    "\n",
    "minimos=minimos.join(minimos_pagados, on=\"CONTROL\", rsuffix=\".MINPAG\").rename(columns={\"MONTO\":\"PX_liq\", \"Detalle\":\"Reparticion\", \"Detalle.tb\":\"TIPO_BEN\"})\n",
    "minimos.fillna(0.0, inplace=True)\n",
    "\n",
    "minimos=minimos.loc[(np.abs(minimos[\"PX_act\"]-minimos[\"PX_liq\"])>1)  ,[\"Reparticion\", \"TIPO_BEN\", \"BRUTO_act\", \"PX_act\", \"BRUTO_liq\", \"PX_liq\"]]\n",
    "minimos.to_excel(\"Minimos_RetirosPoliciales\" + liquidacion + \".xlsx\")\n",
    "\n",
    "minimos"
   ]
  },
  {
   "cell_type": "code",
   "execution_count": null,
   "metadata": {},
   "outputs": [],
   "source": []
  }
 ],
 "metadata": {
  "celltoolbar": "Tags",
  "kernelspec": {
   "display_name": "Python 3",
   "language": "python",
   "name": "python3"
  },
  "language_info": {
   "codemirror_mode": {
    "name": "ipython",
    "version": 3
   },
   "file_extension": ".py",
   "mimetype": "text/x-python",
   "name": "python",
   "nbconvert_exporter": "python",
   "pygments_lexer": "ipython3",
   "version": "3.9.12"
  },
  "toc-showcode": false,
  "toc-showtags": false
 },
 "nbformat": 4,
 "nbformat_minor": 4
}

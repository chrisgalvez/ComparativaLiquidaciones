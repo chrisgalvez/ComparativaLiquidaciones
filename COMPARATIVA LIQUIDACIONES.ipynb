{
 "cells": [
  {
   "cell_type": "markdown",
   "metadata": {
    "tags": []
   },
   "source": [
    "# CHEQUEOS POST LIQUIDACION"
   ]
  },
  {
   "cell_type": "markdown",
   "metadata": {},
   "source": [
    "### Obtencion de Datos"
   ]
  },
  {
   "cell_type": "code",
   "execution_count": 1226,
   "metadata": {
    "tags": [
     "hide-input"
    ]
   },
   "outputs": [],
   "source": [
    "import pyodbc as mssql\n",
    "import numpy as np\n",
    "import pandas as pd\n",
    "%config IPCompleter.greedy=True\n",
    "pd.set_option('display.float_format', lambda x: '%.2f' % x)\n",
    "from IPython.display import Markdown as md\n",
    "import xlsxwriter as xw"
   ]
  },
  {
   "cell_type": "code",
   "execution_count": 1227,
   "metadata": {
    "tags": [
     "hide-input"
    ]
   },
   "outputs": [],
   "source": [
    "liquidacion = '2022-04'\n",
    "minimo_general = 14102.10\n",
    "minimo_policias = 44538.11\n",
    "promedio_incrementos = 10.00/100.00\n",
    "excluir_reparticiones_minimo_garantizado = [17, 26]\n",
    "\n",
    "altas_desde = ''\n",
    "codigos_bruto = ['0Q','0R','0N','0S','LC','OC','PC','QC','TC','U0','MC','PA','TE','XX','PX','MX','YX','NX','1X']\n"
   ]
  },
  {
   "cell_type": "code",
   "execution_count": 1228,
   "metadata": {},
   "outputs": [],
   "source": [
    "# archivo de salida\n",
    "writer = pd.ExcelWriter(\"Resumen-\" + liquidacion + \".xlsx\", \"xlsxwriter\")\n",
    "wb = writer.book\n",
    "formato_moneda = wb.add_format({'num_format': '$ #,##0.00'})\n",
    "formato_porcentaje = wb.add_format({'num_format': '#,##0.00 %'})\n"
   ]
  },
  {
   "cell_type": "code",
   "execution_count": 1229,
   "metadata": {},
   "outputs": [],
   "source": [
    "conn = mssql.connect(\"DRIVER={SQL SERVER};SERVER=IPSBD;DATABASE=LIQUIDACION;;Trusted_Connection=Yes;\")"
   ]
  },
  {
   "cell_type": "markdown",
   "metadata": {
    "jp-MarkdownHeadingCollapsed": true,
    "tags": []
   },
   "source": [
    "#### Obtención de la fecha de alta de la liquidacion seleccionada"
   ]
  },
  {
   "cell_type": "code",
   "execution_count": 1230,
   "metadata": {},
   "outputs": [
    {
     "name": "stdout",
     "output_type": "stream",
     "text": [
      "ALTAS DESDE: 19/04/2022\n"
     ]
    }
   ],
   "source": [
    "from datetime import datetime\n",
    "altas_desde = pd.read_sql(\"\"\"SELECT create_date FROM SYS.DATABASES\n",
    "WHERE NAME like '%{liquidacion}%'\"\"\".format(liquidacion=liquidacion),conn)[\"create_date\"][0].strftime('%d/%m/%Y')\n",
    "print(\"ALTAS DESDE: {altas_desde}\".format(altas_desde=altas_desde))"
   ]
  },
  {
   "cell_type": "markdown",
   "metadata": {
    "tags": []
   },
   "source": [
    "#### Obtención de Datos Generales"
   ]
  },
  {
   "cell_type": "code",
   "execution_count": 1231,
   "metadata": {},
   "outputs": [],
   "source": [
    "codigos = pd.read_sql( \"SELECT * FROM CODIGOS\", conn, index_col=\"CODIGO\")\n",
    "reparticion = pd.read_sql( \"SELECT * FROM REPARTICION\", conn, index_col=\"Cod\" )\n",
    "tipos_beneficio = pd.read_sql ( \"SELECT * FROM BENEFICIO\", conn, index_col=\"Cod\" )\n",
    "\n",
    "### Auditorias desde la fecha de creacion de la liquidacion de referencia\n",
    "auditorias = pd.read_sql( \"\"\"SELECT CONTROL FROM AUDIT A WHERE A.ORIGEN='D' AND \n",
    "A.FECHA > CONVERT(int, CONVERT(datetime, '{altas_desde}'))+2\"\"\".format(altas_desde=altas_desde), conn, index_col=\"CONTROL\")\n",
    "\n",
    "beneficios = pd.read_sql( \"\"\"SELECT CONTROL, PLLA, ORDEN, AFILIADO, BENEFICIO, COD_BENEFICIO, LETRA,\n",
    "CASE WHEN COD_BENEFICIO in (7,25,27,29) then DBO.PORCENTAJE_COMPARTIDA(CONTROL) ELSE 1 END AS PORCENTAJE\n",
    "FROM Liquidacion.dbo.DatosAfiliado\n",
    "WHERE HABILITADO='S'\"\"\", conn, index_col=\"CONTROL\")\n",
    "beneficios[[\"COD_BENEFICIO\"]]=beneficios[[\"COD_BENEFICIO\"]].astype(\"int64\")\n",
    "### Excluímos las auditorias de altas y modificaciones para evitar las \"deformaciones\"\n",
    "beneficios_sin_altas = beneficios[~beneficios.index.isin(auditorias.index)]\n",
    "liquidacion_ben = pd.read_sql(\"\"\" SELECT * FROM LIQUIDACION.DBO.LIQUIDACION\"\"\", conn, index_col=[\"PLLA\", \"ORDEN\", \"AFILIADO\"])\n",
    "beneficios_liq = pd.read_sql(\"SELECT * FROM [{liquidacion}].DBO.DATOSAFILIADO\".format(liquidacion=liquidacion), \\\n",
    "                             conn, index_col=[\"CONTROL\"])\n",
    "liquidacion_liq = pd.read_sql(\"SELECT * FROM [{liquidacion}].DBO.LIQUIDACION\".format(liquidacion=liquidacion), \\\n",
    "                                conn, index_col=[\"PLLA\", \"ORDEN\", \"AFILIADO\"])\n",
    "\n"
   ]
  },
  {
   "cell_type": "code",
   "execution_count": null,
   "metadata": {},
   "outputs": [],
   "source": []
  },
  {
   "cell_type": "markdown",
   "metadata": {
    "tags": []
   },
   "source": [
    "### Determinacion de brutos"
   ]
  },
  {
   "cell_type": "markdown",
   "metadata": {
    "tags": []
   },
   "source": [
    "#### Determinacion de los brutos actuales"
   ]
  },
  {
   "cell_type": "code",
   "execution_count": 1232,
   "metadata": {},
   "outputs": [],
   "source": [
    "### determinacion de la tabla de brutos de liquidacion activa\n",
    "brutos_act = beneficios_sin_altas.reset_index().merge(liquidacion_ben, left_on=[\"PLLA\", \"ORDEN\", \"AFILIADO\"],\\\n",
    "                              right_on=[\"PLLA\", \"ORDEN\", \"AFILIADO\"])\n",
    "brutos_act = brutos_act[brutos_act[\"CODIGO\"].isin(codigos_bruto)].groupby([\"CONTROL\"]).sum(\"MONTO\")[[\"MONTO\"]]\n",
    "# agrego aquellos que no tienen codigos de bruto\n",
    "brutos_act = brutos_act.join(beneficios_sin_altas,  how=\"outer\")\n",
    "brutos_act[\"MONTO\"].fillna(value=0.0, inplace=True)\n",
    "brutos_act[\"BRUTO\"] = brutos_act[\"MONTO\"] + brutos_act[\"BENEFICIO\"]\n",
    "# dejo solo la columna del bruto recien calculada\n",
    "brutos_act=brutos_act[[\"BRUTO\",\"BENEFICIO\", \"COD_BENEFICIO\", \"LETRA\"]]\n"
   ]
  },
  {
   "cell_type": "code",
   "execution_count": null,
   "metadata": {},
   "outputs": [],
   "source": []
  },
  {
   "cell_type": "markdown",
   "metadata": {
    "tags": []
   },
   "source": [
    "#### Determinación de los brutos de referencia"
   ]
  },
  {
   "cell_type": "code",
   "execution_count": 1233,
   "metadata": {},
   "outputs": [],
   "source": [
    "###determinacion de la tabla de brutos de la liquidacion de referencia \n",
    "brutos_liq = beneficios_liq.join(liquidacion_liq, on=[\"PLLA\",\"ORDEN\",\"AFILIADO\"],how=\"inner\", rsuffix=\".LIQ\")\\\n",
    "        .join(codigos, on=[\"CODIGO\"], how=\"inner\", rsuffix=\".COD\")\n",
    "brutos_liq = brutos_liq[brutos_liq[\"CODIGO\"].isin(codigos_bruto)].groupby(by=\"CONTROL\").sum()[[\"MONTO\"]]\n",
    "brutos_liq = brutos_liq.join(beneficios_liq, on=\"CONTROL\", how=\"outer\")\n",
    "brutos_liq[\"MONTO\"].fillna(value=0.0, inplace=True)\n",
    "brutos_liq[\"BRUTO\"] = brutos_liq[\"MONTO\"] + brutos_liq[\"BENEFICIO\"]\n",
    "brutos_liq=brutos_liq[[\"CONTROL\", \"BRUTO\", \"BENEFICIO\"]]\n",
    "brutos_liq.set_index(keys=\"CONTROL\", inplace=True)\n",
    "brutos_liq=brutos_liq.sort_values(by=\"CONTROL\")\n"
   ]
  },
  {
   "cell_type": "markdown",
   "metadata": {},
   "source": [
    "### Comparativa de Brutos y Beneficios"
   ]
  },
  {
   "cell_type": "code",
   "execution_count": 1234,
   "metadata": {},
   "outputs": [
    {
     "name": "stdout",
     "output_type": "stream",
     "text": [
      "                       Reparticion                Tipo_Beneficio  DIF_BRUTOS  \\\n",
      "0                          Docente  Jubilación Ordinaria Docente        1.14   \n",
      "1                          Docente  Jubilación Ordinaria Docente        0.83   \n",
      "2                          Docente  Jubilación Ordinaria Docente        0.32   \n",
      "3                          Docente  Jubilación Ordinaria Docente        0.24   \n",
      "4                          Docente  Jubilación Ordinaria Docente        0.24   \n",
      "...                            ...                           ...         ...   \n",
      "17276  Minist. Educ Ens Med y Priv      Jubilación por Invalidez        0.08   \n",
      "17277  Minist. Educ Ens Med y Priv          Jubilación Ordinaria        0.08   \n",
      "17278  Minist. Educ Ens Med y Priv          Jubilación Ordinaria        0.08   \n",
      "17279  Minist. Educ Ens Med y Priv              Pension Derivada        0.08   \n",
      "17280  Minist. Educ Ens Med y Priv          Jubilación Ordinaria        0.08   \n",
      "\n",
      "       DIF_BENEFICIOS  \n",
      "0                0.10  \n",
      "1                0.10  \n",
      "2                0.10  \n",
      "3                0.10  \n",
      "4                0.10  \n",
      "...               ...  \n",
      "17276            0.12  \n",
      "17277            0.12  \n",
      "17278            0.11  \n",
      "17279            0.10  \n",
      "17280            0.11  \n",
      "\n",
      "[17281 rows x 4 columns]\n"
     ]
    },
    {
     "data": {
      "text/plain": [
       "0"
      ]
     },
     "execution_count": 1234,
     "metadata": {},
     "output_type": "execute_result"
    }
   ],
   "source": [
    "###  comparativa \n",
    "\n",
    "brutos = brutos_liq.join( brutos_act, lsuffix=\"_liq\", rsuffix=\"_act\" )\n",
    "brutos[\"DIF_BRUTOS\"] = (brutos[\"BRUTO_act\"]-brutos[\"BRUTO_liq\"])/brutos[\"BRUTO_liq\"]\n",
    "brutos[\"DIF_BENEFICIOS\"] = (brutos[\"BENEFICIO_act\"]-brutos[\"BENEFICIO_liq\"])/brutos[\"BENEFICIO_liq\"]\n",
    "diferencia_brutos=brutos.loc[(brutos[\"DIF_BRUTOS\"] > promedio_incrementos) | \\\n",
    "                             (brutos[\"DIF_BENEFICIOS\"] > promedio_incrementos), [\"LETRA\", \"COD_BENEFICIO\", \"DIF_BRUTOS\",\"DIF_BENEFICIOS\", ]] \\\n",
    "                            .sort_values(by=\"DIF_BRUTOS\", ascending=False)\n",
    "diferencia_brutos=diferencia_brutos.merge(reparticion, left_on=\"LETRA\", right_on=\"Cod\", how=\"inner\")\n",
    "diferencia_brutos=diferencia_brutos.join(tipos_beneficio, on=\"COD_BENEFICIO\", rsuffix=\".tb\")\n",
    "diferencia_brutos=diferencia_brutos[[\"Detalle\", \"Detalle.tb\", \"DIF_BRUTOS\", \"DIF_BENEFICIOS\" ]]\n",
    "diferencia_brutos=diferencia_brutos.rename(columns={\"Detalle\":\"Reparticion\", \"Detalle.tb\":\"Tipo_Beneficio\"})                  \n",
    "\n",
    "diferencia_brutos.to_excel(writer, \"Diferencia Brutos\",startrow=0, header=True, index=True)\n",
    "\n",
    "print(diferencia_brutos)\n",
    "\n",
    "(max_row, max_col)= diferencia_brutos.shape\n",
    "column_settings = []\n",
    "column_settings = np.append(column_settings, {'header': \"CONTROL\"})\n",
    "column_settings = np.append(column_settings, [{'header': column} for column in inf_rep_letra.columns])\n",
    "\n",
    "worksheet = writer.sheets[\"Diferencia Brutos\"]\n",
    "worksheet.add_table(0, 0, max_row+1, max_col, {'columns': column_settings, 'autofilter': False, \\\n",
    "                                             'banded_rows': False, \"style\": None})\n",
    "\n",
    "worksheet.set_column(\"A:A\", 35)\n",
    "worksheet.set_column(\"D:E\", 15, formato_porcentaje )\n",
    "\n",
    "\n"
   ]
  },
  {
   "cell_type": "markdown",
   "metadata": {},
   "source": [
    "#### Diferencia por reparticion"
   ]
  },
  {
   "cell_type": "code",
   "execution_count": 1235,
   "metadata": {},
   "outputs": [
    {
     "data": {
      "text/plain": [
       "0"
      ]
     },
     "execution_count": 1235,
     "metadata": {},
     "output_type": "execute_result"
    }
   ],
   "source": [
    "### POR REPARTICION ###\n",
    "\n",
    "inf_rep_letra = brutos.merge(reparticion, left_on=\"LETRA\", right_on=\"Cod\", how=\"inner\")\n",
    "inf_rep_letra = inf_rep_letra[['Detalle', 'BRUTO_liq', 'BENEFICIO_liq', 'BRUTO_act', 'BENEFICIO_act']].groupby(by=\"Detalle\").sum()\n",
    "inf_rep_letra[\"DIF_BRUTOS\"] = (inf_rep_letra[\"BRUTO_act\"]-inf_rep_letra[\"BRUTO_liq\"])/inf_rep_letra[\"BRUTO_liq\"]\n",
    "inf_rep_letra[\"DIF_BENEFICIOS\"] = (inf_rep_letra[\"BENEFICIO_act\"] - inf_rep_letra[\"BENEFICIO_liq\"])/inf_rep_letra[\"BENEFICIO_liq\"]\n",
    "inf_rep_letra=inf_rep_letra[(inf_rep_letra[\"DIF_BRUTOS\"]!=0) | (inf_rep_letra[\"DIF_BENEFICIOS\"]!=0)]\n",
    "\n",
    "inf_rep_letra.to_excel(writer, \"Dif Brutos Por Rep\")\n",
    "\n",
    "(max_row, max_col)= inf_rep_letra.shape\n",
    "\n",
    "column_settings = []\n",
    "column_settings = np.append(column_settings, {'header': \"Reparticion\"})\n",
    "column_settings = np.append(column_settings, [{'header': column} for column in  inf_rep_letra.columns])\n",
    "\n",
    "worksheet = writer.sheets[\"Dif Brutos Por Rep\"]\n",
    "worksheet.add_table(0, 0, max_row, max_col, {'columns': column_settings, 'autofilter': False, \\\n",
    "                                             'banded_rows': False, \"style\": None})\n",
    "\n",
    "worksheet.set_column(\"A:A\", 35)\n",
    "worksheet.set_column(\"F:G\", 15, formato_porcentaje )\n",
    "worksheet.set_column(\"B:E\", 15, formato_moneda)\n",
    "\n"
   ]
  },
  {
   "cell_type": "markdown",
   "metadata": {
    "tags": []
   },
   "source": [
    "### Mínimos"
   ]
  },
  {
   "cell_type": "markdown",
   "metadata": {
    "tags": []
   },
   "source": [
    "#### Mínimos Administración Central y Organismos"
   ]
  },
  {
   "cell_type": "code",
   "execution_count": 1236,
   "metadata": {},
   "outputs": [],
   "source": [
    "# minimos = beneficios.join( beneficios_liq, on=\"CONTROL\", lsuffix=\".BEN\", rsuffix=\".BENLIQ\" )\\\n",
    "#             .join(reparticion, on=\"LETRA\" , rsuffix=\".REP\", )\\\n",
    "#             .join(brutos, on=\"CONTROL\", rsuffix=\".BRT\")\n",
    "\n",
    "# minimos[minimos[\"BRUTO_act\"] < minimo_general]\n",
    "# minimos[\"ZX_act\"] = np.where((~minimos[\"LETRA\"].isin([17,26]) & (minimos[\"BRUTO_act\"] < minimo_general*minimos[\"PORCENTAJE\"])), minimo_general*minimos[\"PORCENTAJE\"]-minimos[\"BRUTO_act\"], 0.0)\n",
    "# minimos.fillna(0, inplace=True)\n",
    "\n",
    "# minimos_pagados = beneficios_liq.join(liquidacion_liq, on=[\"PLLA\",\"ORDEN\",\"AFILIADO\"],how=\"inner\", rsuffix=\".LIQ\")\\\n",
    "#         .join(codigos, on=[\"CODIGO\"], how=\"inner\", rsuffix=\".COD\")\n",
    "\n",
    "# minimos_pagados=minimos_pagados.loc[minimos_pagados[\"CODIGO\"].isin(['ZX']), [\"MONTO\"]].groupby(\"CONTROL\").sum(\"MONTO\").rename(columns={\"MONTO\":\"ZX_liq\"})\n",
    "\n",
    "# minimos=minimos.join(minimos_pagados, on=\"CONTROL\", rsuffix=\".MINPAG\")\n",
    "# minimos.fillna(0.0, inplace=True)\n",
    "# minimos=minimos.loc[(np.abs(minimos[\"ZX_act\"]-minimos[\"ZX_liq\"])>1)  ,[\"BRUTO_act\", \"ZX_act\", \"BRUTO_liq\", \"ZX_liq\"]]\n",
    "\n",
    "# minimos.to_excel(writer, \"Minimos_Adm_Central\")\n",
    "\n"
   ]
  },
  {
   "cell_type": "markdown",
   "metadata": {
    "tags": []
   },
   "source": [
    "#### Mínimos Retiros Policiales y Carcelarios"
   ]
  },
  {
   "cell_type": "code",
   "execution_count": 1237,
   "metadata": {
    "tags": [
     "hide-input"
    ]
   },
   "outputs": [],
   "source": [
    "# minimos = beneficios.join( beneficios_liq, on=\"CONTROL\", lsuffix=\".BEN\", rsuffix=\".BENLIQ\" )\\\n",
    "#             .join(reparticion, on=\"LETRA\" , rsuffix=\".REP\", )\\\n",
    "#             .join(brutos, on=\"CONTROL\", rsuffix=\".BRT\")\\\n",
    "#             .join(tipos_beneficio, on=\"COD_BENEFICIO\", rsuffix=\".tb\")\n",
    "            \n",
    "\n",
    "# minimos[minimos[\"BRUTO_act\"] < minimo_policias]\n",
    "# minimos[\"PX_act\"] = np.where((minimos[\"LETRA\"].isin([17,26]) & (minimos[\"BRUTO_act\"] < minimo_policias*minimos[\"PORCENTAJE\"])), minimo_policias*minimos[\"PORCENTAJE\"]-minimos[\"BRUTO_act\"], 0.0)\n",
    "# minimos.fillna(0, inplace=True)\n",
    "\n",
    "# minimos_pagados = beneficios_liq.join(liquidacion_liq, on=[\"PLLA\",\"ORDEN\",\"AFILIADO\"],how=\"inner\", rsuffix=\".LIQ\")\\\n",
    "#         .join(codigos, on=[\"CODIGO\"], how=\"inner\", rsuffix=\".COD\")\n",
    "\n",
    "# minimos_pagados=minimos_pagados.loc[minimos_pagados[\"CODIGO\"].isin(['PX']), [\"MONTO\"]]\\\n",
    "#         .groupby(\"CONTROL\").sum(\"MONTO\")\n",
    "\n",
    "# minimos=minimos.join(minimos_pagados, on=\"CONTROL\", rsuffix=\".MINPAG\").rename(columns={\"MONTO\":\"PX_liq\", \"Detalle\":\"Reparticion\", \"Detalle.tb\":\"TIPO_BEN\"})\n",
    "# minimos.fillna(0.0, inplace=True)\n",
    "\n",
    "# minimos=minimos.loc[(np.abs(minimos[\"PX_act\"]-minimos[\"PX_liq\"])>1)  ,[\"Reparticion\", \"TIPO_BEN\", \"BRUTO_act\", \"PX_act\", \"BRUTO_liq\", \"PX_liq\"]]\n",
    "\n",
    "# #minimos.to_excel(writer, \"Minimos Retiros Policiales\")\n",
    "\n"
   ]
  },
  {
   "cell_type": "markdown",
   "metadata": {},
   "source": [
    "## Brutos Altas y Modificaciones\n"
   ]
  },
  {
   "cell_type": "code",
   "execution_count": null,
   "metadata": {},
   "outputs": [],
   "source": []
  },
  {
   "cell_type": "markdown",
   "metadata": {
    "tags": []
   },
   "source": [
    "## Cerrar archivo excel y guardar"
   ]
  },
  {
   "cell_type": "code",
   "execution_count": 1238,
   "metadata": {},
   "outputs": [],
   "source": [
    "### Guardado y cierre del archivo excel\n",
    "writer.save()"
   ]
  }
 ],
 "metadata": {
  "celltoolbar": "Tags",
  "kernelspec": {
   "display_name": "Python 3",
   "language": "python",
   "name": "python3"
  },
  "language_info": {
   "codemirror_mode": {
    "name": "ipython",
    "version": 3
   },
   "file_extension": ".py",
   "mimetype": "text/x-python",
   "name": "python",
   "nbconvert_exporter": "python",
   "pygments_lexer": "ipython3",
   "version": "3.9.12"
  },
  "toc-showcode": false,
  "toc-showtags": false
 },
 "nbformat": 4,
 "nbformat_minor": 4
}

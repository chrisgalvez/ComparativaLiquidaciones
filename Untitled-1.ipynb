{
 "cells": [
  {
   "cell_type": "code",
   "execution_count": 30,
   "metadata": {},
   "outputs": [
    {
     "name": "stdout",
     "output_type": "stream",
     "text": [
      "SELECT '2024-07', COUNT(*) FROM [2024-07].dbo.DATOSAFILIADO D1 WHERE CONTROL NOT IN\n",
      "(SELECT CONTROL FROM [2024-06].dbo.DATOSAFILIADO) UNION\n",
      "SELECT '2024-06', COUNT(*) FROM [2024-06].dbo.DATOSAFILIADO D1 WHERE CONTROL NOT IN\n",
      "(SELECT CONTROL FROM [2024-05].dbo.DATOSAFILIADO) UNION\n",
      "SELECT '2024-05', COUNT(*) FROM [2024-05].dbo.DATOSAFILIADO D1 WHERE CONTROL NOT IN\n",
      "(SELECT CONTROL FROM [2024-04].dbo.DATOSAFILIADO) UNION\n",
      "SELECT '2024-04', COUNT(*) FROM [2024-04].dbo.DATOSAFILIADO D1 WHERE CONTROL NOT IN\n",
      "(SELECT CONTROL FROM [2024-03].dbo.DATOSAFILIADO) UNION\n",
      "SELECT '2024-03', COUNT(*) FROM [2024-03].dbo.DATOSAFILIADO D1 WHERE CONTROL NOT IN\n",
      "(SELECT CONTROL FROM [2024-02].dbo.DATOSAFILIADO) UNION\n",
      "SELECT '2024-02', COUNT(*) FROM [2024-02].dbo.DATOSAFILIADO D1 WHERE CONTROL NOT IN\n",
      "(SELECT CONTROL FROM [2024-01].dbo.DATOSAFILIADO) UNION\n",
      "SELECT '2024-01', COUNT(*) FROM [2024-01].dbo.DATOSAFILIADO D1 WHERE CONTROL NOT IN\n",
      "(SELECT CONTROL FROM [2023-12].dbo.DATOSAFILIADO) UNION\n",
      "SELECT '2023-12', COUNT(*) FROM [2023-12].dbo.DATOSAFILIADO D1 WHERE CONTROL NOT IN\n",
      "(SELECT CONTROL FROM [2023-11].dbo.DATOSAFILIADO) UNION\n",
      "SELECT '2023-11', COUNT(*) FROM [2023-11].dbo.DATOSAFILIADO D1 WHERE CONTROL NOT IN\n",
      "(SELECT CONTROL FROM [2023-10].dbo.DATOSAFILIADO) UNION\n",
      "SELECT '2023-10', COUNT(*) FROM [2023-10].dbo.DATOSAFILIADO D1 WHERE CONTROL NOT IN\n",
      "(SELECT CONTROL FROM [2023-09].dbo.DATOSAFILIADO) UNION\n",
      "SELECT '2023-09', COUNT(*) FROM [2023-09].dbo.DATOSAFILIADO D1 WHERE CONTROL NOT IN\n",
      "(SELECT CONTROL FROM [2023-08].dbo.DATOSAFILIADO) UNION\n",
      "SELECT '2023-08', COUNT(*) FROM [2023-08].dbo.DATOSAFILIADO D1 WHERE CONTROL NOT IN\n",
      "(SELECT CONTROL FROM [2023-07].dbo.DATOSAFILIADO) UNION\n",
      "SELECT '2023-07', COUNT(*) FROM [2023-07].dbo.DATOSAFILIADO D1 WHERE CONTROL NOT IN\n",
      "(SELECT CONTROL FROM [2023-06].dbo.DATOSAFILIADO)\n"
     ]
    }
   ],
   "source": [
    "import pandas as pd\n",
    "from datetime import datetime, timedelta\n",
    "\n",
    "# Obtener la fecha actual\n",
    "hoy = datetime.today()\n",
    "\n",
    "# Crear una lista de los últimos 12 meses en formato yyyy-mm\n",
    "ultimos_12_meses = [(hoy - pd.DateOffset(months=i)).strftime('%Y-%m') for i in range(14)]\n",
    "\n",
    "# Invertir la lista para que esté en orden cronológico\n",
    "#ultimos_12_meses = ultimos_12_meses[::-1]\n",
    "\n",
    "consulta = ''\n",
    "for i in range(0,len(ultimos_12_meses)-1):\n",
    "    consulta += f'SELECT \\'{ultimos_12_meses[i]}\\', COUNT(*) FROM [{ultimos_12_meses[i]}].dbo.DATOSAFILIADO D1 WHERE CONTROL NOT IN' \\\n",
    "    f'\\n(SELECT CONTROL FROM [{ultimos_12_meses[i+1]}].dbo.DATOSAFILIADO)' \n",
    "    consulta += (f' UNION\\n' if i < (len(ultimos_12_meses)-2) else '')\n",
    "print(consulta)"
   ]
  },
  {
   "cell_type": "code",
   "execution_count": 31,
   "metadata": {},
   "outputs": [
    {
     "name": "stdout",
     "output_type": "stream",
     "text": [
      "SELECT '2024-07', CONTROL FROM [2024-07].dbo.DATOSAFILIADO D1 WHERE CONTROL NOT IN\n",
      "(SELECT CONTROL FROM [2024-06].dbo.DATOSAFILIADO) UNION\n",
      "SELECT '2024-06', CONTROL FROM [2024-06].dbo.DATOSAFILIADO D1 WHERE CONTROL NOT IN\n",
      "(SELECT CONTROL FROM [2024-05].dbo.DATOSAFILIADO) UNION\n",
      "SELECT '2024-05', CONTROL FROM [2024-05].dbo.DATOSAFILIADO D1 WHERE CONTROL NOT IN\n",
      "(SELECT CONTROL FROM [2024-04].dbo.DATOSAFILIADO) UNION\n",
      "SELECT '2024-04', CONTROL FROM [2024-04].dbo.DATOSAFILIADO D1 WHERE CONTROL NOT IN\n",
      "(SELECT CONTROL FROM [2024-03].dbo.DATOSAFILIADO) UNION\n",
      "SELECT '2024-03', CONTROL FROM [2024-03].dbo.DATOSAFILIADO D1 WHERE CONTROL NOT IN\n",
      "(SELECT CONTROL FROM [2024-02].dbo.DATOSAFILIADO) UNION\n",
      "SELECT '2024-02', CONTROL FROM [2024-02].dbo.DATOSAFILIADO D1 WHERE CONTROL NOT IN\n",
      "(SELECT CONTROL FROM [2024-01].dbo.DATOSAFILIADO) UNION\n",
      "SELECT '2024-01', CONTROL FROM [2024-01].dbo.DATOSAFILIADO D1 WHERE CONTROL NOT IN\n",
      "(SELECT CONTROL FROM [2023-12].dbo.DATOSAFILIADO) UNION\n",
      "SELECT '2023-12', CONTROL FROM [2023-12].dbo.DATOSAFILIADO D1 WHERE CONTROL NOT IN\n",
      "(SELECT CONTROL FROM [2023-11].dbo.DATOSAFILIADO) UNION\n",
      "SELECT '2023-11', CONTROL FROM [2023-11].dbo.DATOSAFILIADO D1 WHERE CONTROL NOT IN\n",
      "(SELECT CONTROL FROM [2023-10].dbo.DATOSAFILIADO) UNION\n",
      "SELECT '2023-10', CONTROL FROM [2023-10].dbo.DATOSAFILIADO D1 WHERE CONTROL NOT IN\n",
      "(SELECT CONTROL FROM [2023-09].dbo.DATOSAFILIADO) UNION\n",
      "SELECT '2023-09', CONTROL FROM [2023-09].dbo.DATOSAFILIADO D1 WHERE CONTROL NOT IN\n",
      "(SELECT CONTROL FROM [2023-08].dbo.DATOSAFILIADO) UNION\n",
      "SELECT '2023-08', CONTROL FROM [2023-08].dbo.DATOSAFILIADO D1 WHERE CONTROL NOT IN\n",
      "(SELECT CONTROL FROM [2023-07].dbo.DATOSAFILIADO) UNION\n",
      "SELECT '2023-07', CONTROL FROM [2023-07].dbo.DATOSAFILIADO D1 WHERE CONTROL NOT IN\n",
      "(SELECT CONTROL FROM [2023-06].dbo.DATOSAFILIADO)\n"
     ]
    }
   ],
   "source": [
    "import pandas as pd\n",
    "from datetime import datetime, timedelta\n",
    "\n",
    "# Obtener la fecha actual\n",
    "hoy = datetime.today()\n",
    "\n",
    "# Crear una lista de los últimos 12 meses en formato yyyy-mm\n",
    "ultimos_12_meses = [(hoy - pd.DateOffset(months=i)).strftime('%Y-%m') for i in range(14)]\n",
    "\n",
    "# Invertir la lista para que esté en orden cronológico\n",
    "#ultimos_12_meses = ultimos_12_meses[::-1]\n",
    "\n",
    "consulta = ''\n",
    "for i in range(0,len(ultimos_12_meses)-1):\n",
    "    consulta += f'SELECT \\'{ultimos_12_meses[i]}\\', CONTROL FROM [{ultimos_12_meses[i]}].dbo.DATOSAFILIADO D1 WHERE CONTROL NOT IN' \\\n",
    "    f'\\n(SELECT CONTROL FROM [{ultimos_12_meses[i+1]}].dbo.DATOSAFILIADO)' \n",
    "    consulta += (f' UNION\\n' if i < (len(ultimos_12_meses)-2) else '')\n",
    "print(consulta)"
   ]
  },
  {
   "cell_type": "code",
   "execution_count": null,
   "metadata": {},
   "outputs": [],
   "source": []
  },
  {
   "cell_type": "code",
   "execution_count": null,
   "metadata": {},
   "outputs": [],
   "source": []
  }
 ],
 "metadata": {
  "kernelspec": {
   "display_name": ".venv",
   "language": "python",
   "name": "python3"
  },
  "language_info": {
   "codemirror_mode": {
    "name": "ipython",
    "version": 3
   },
   "file_extension": ".py",
   "mimetype": "text/x-python",
   "name": "python",
   "nbconvert_exporter": "python",
   "pygments_lexer": "ipython3",
   "version": "3.12.3"
  }
 },
 "nbformat": 4,
 "nbformat_minor": 2
}

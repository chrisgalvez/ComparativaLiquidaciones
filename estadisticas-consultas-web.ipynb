{
 "cells": [
  {
   "cell_type": "markdown",
   "metadata": {},
   "source": [
    "# ESTADISTICAS DEL SISTEMA DE CONSULTAS WEB\n"
   ]
  },
  {
   "cell_type": "code",
   "execution_count": 2,
   "metadata": {},
   "outputs": [],
   "source": [
    "import pandas as pd\n",
    "import numpy as np\n",
    "import matplotlib as plt\n",
    "from sqlalchemy import engine\n",
    "\n",
    "engine = engine.create_engine('mssql+pyodbc://IPSDB-Replica/Noticias?driver=ODBC+Driver+17+for+SQL+Server')\n",
    "FECHA_DESDE = '2024-02-01'\n",
    "FECHA_HASTA = '2024-08-01'\n",
    "CATEGORIA = 4"
   ]
  },
  {
   "cell_type": "code",
   "execution_count": 3,
   "metadata": {},
   "outputs": [],
   "source": [
    "consulta = f\"\"\"SELECT c.* FROM CONSULTAS C LEFT OUTER JOIN SUBCATEGORIA_CONSULTAS S \n",
    "ON S.CATEGORIA_ID=C.SUBCATEGORIA_ID LEFT OUTER JOIN CATEGORIAS CA \n",
    "ON CA.ID = S.CATEGORIA_ID WHERE C.created_at >= '{FECHA_DESDE}' AND C.created_at < '{FECHA_HASTA}'\"\"\"\n",
    "\n",
    "df = pd.read_sql(consulta, engine)"
   ]
  },
  {
   "cell_type": "code",
   "execution_count": 4,
   "metadata": {},
   "outputs": [],
   "source": [
    "df[\"created_at\"] = df[\"created_at\"].astype(\"datetime64[ns]\")"
   ]
  },
  {
   "cell_type": "code",
   "execution_count": 5,
   "metadata": {},
   "outputs": [
    {
     "data": {
      "text/plain": [
       "<BarContainer object of 6 artists>"
      ]
     },
     "execution_count": 5,
     "metadata": {},
     "output_type": "execute_result"
    },
    {
     "data": {
      "image/png": "[encoded data removed]",
      "text/plain": [
       "<Figure size 640x480 with 1 Axes>"
      ]
     },
     "metadata": {},
     "output_type": "display_data"
    }
   ],
   "source": [
    "import matplotlib.pyplot as plt\n",
    "\n",
    "mensual = df.groupby(df[\"created_at\"].dt.strftime(\"%m-%Y\")).count()\n",
    "\n",
    "plt.bar(x=mensual.index, height=mensual[\"id\"])"
   ]
  },
  {
   "cell_type": "code",
   "execution_count": 6,
   "metadata": {},
   "outputs": [
    {
     "name": "stderr",
     "output_type": "stream",
     "text": [
      "C:\\Users\\25030055\\AppData\\Local\\Temp\\ipykernel_37240\\1934194623.py:5: FutureWarning: 'M' is deprecated and will be removed in a future version, please use 'ME' instead.\n",
      "  df.groupby(pd.Grouper(key=\"created_at\", freq=\"M\")).count()\n"
     ]
    },
    {
     "data": {
      "text/html": [
       "<div>\n",
       "<style scoped>\n",
       "    .dataframe tbody tr th:only-of-type {\n",
       "        vertical-align: middle;\n",
       "    }\n",
       "\n",
       "    .dataframe tbody tr th {\n",
       "        vertical-align: top;\n",
       "    }\n",
       "\n",
       "    .dataframe thead th {\n",
       "        text-align: right;\n",
       "    }\n",
       "</style>\n",
       "<table border=\"1\" class=\"dataframe\">\n",
       "  <thead>\n",
       "    <tr style=\"text-align: right;\">\n",
       "      <th></th>\n",
       "      <th>id</th>\n",
       "      <th>nombreyapellido</th>\n",
       "      <th>cuil</th>\n",
       "      <th>telefono_cliente</th>\n",
       "      <th>mail_cliente</th>\n",
       "      <th>consulta</th>\n",
       "      <th>estado</th>\n",
       "      <th>token</th>\n",
       "      <th>subcategoria_id</th>\n",
       "      <th>deleted_at</th>\n",
       "      <th>updated_at</th>\n",
       "      <th>id_responsable</th>\n",
       "      <th>recibo_digital_id</th>\n",
       "    </tr>\n",
       "    <tr>\n",
       "      <th>created_at</th>\n",
       "      <th></th>\n",
       "      <th></th>\n",
       "      <th></th>\n",
       "      <th></th>\n",
       "      <th></th>\n",
       "      <th></th>\n",
       "      <th></th>\n",
       "      <th></th>\n",
       "      <th></th>\n",
       "      <th></th>\n",
       "      <th></th>\n",
       "      <th></th>\n",
       "      <th></th>\n",
       "    </tr>\n",
       "  </thead>\n",
       "  <tbody>\n",
       "    <tr>\n",
       "      <th>2024-02-29</th>\n",
       "      <td>195</td>\n",
       "      <td>195</td>\n",
       "      <td>195</td>\n",
       "      <td>195</td>\n",
       "      <td>195</td>\n",
       "      <td>195</td>\n",
       "      <td>195</td>\n",
       "      <td>195</td>\n",
       "      <td>195</td>\n",
       "      <td>0</td>\n",
       "      <td>195</td>\n",
       "      <td>117</td>\n",
       "      <td>195</td>\n",
       "    </tr>\n",
       "    <tr>\n",
       "      <th>2024-03-31</th>\n",
       "      <td>273</td>\n",
       "      <td>273</td>\n",
       "      <td>273</td>\n",
       "      <td>273</td>\n",
       "      <td>273</td>\n",
       "      <td>273</td>\n",
       "      <td>273</td>\n",
       "      <td>273</td>\n",
       "      <td>273</td>\n",
       "      <td>0</td>\n",
       "      <td>273</td>\n",
       "      <td>149</td>\n",
       "      <td>273</td>\n",
       "    </tr>\n",
       "    <tr>\n",
       "      <th>2024-04-30</th>\n",
       "      <td>335</td>\n",
       "      <td>335</td>\n",
       "      <td>335</td>\n",
       "      <td>335</td>\n",
       "      <td>335</td>\n",
       "      <td>335</td>\n",
       "      <td>335</td>\n",
       "      <td>335</td>\n",
       "      <td>335</td>\n",
       "      <td>0</td>\n",
       "      <td>335</td>\n",
       "      <td>132</td>\n",
       "      <td>335</td>\n",
       "    </tr>\n",
       "    <tr>\n",
       "      <th>2024-05-31</th>\n",
       "      <td>307</td>\n",
       "      <td>307</td>\n",
       "      <td>307</td>\n",
       "      <td>307</td>\n",
       "      <td>307</td>\n",
       "      <td>307</td>\n",
       "      <td>307</td>\n",
       "      <td>307</td>\n",
       "      <td>307</td>\n",
       "      <td>0</td>\n",
       "      <td>307</td>\n",
       "      <td>109</td>\n",
       "      <td>307</td>\n",
       "    </tr>\n",
       "    <tr>\n",
       "      <th>2024-06-30</th>\n",
       "      <td>227</td>\n",
       "      <td>227</td>\n",
       "      <td>227</td>\n",
       "      <td>227</td>\n",
       "      <td>227</td>\n",
       "      <td>227</td>\n",
       "      <td>227</td>\n",
       "      <td>227</td>\n",
       "      <td>227</td>\n",
       "      <td>0</td>\n",
       "      <td>227</td>\n",
       "      <td>116</td>\n",
       "      <td>227</td>\n",
       "    </tr>\n",
       "    <tr>\n",
       "      <th>2024-07-31</th>\n",
       "      <td>218</td>\n",
       "      <td>218</td>\n",
       "      <td>218</td>\n",
       "      <td>218</td>\n",
       "      <td>218</td>\n",
       "      <td>218</td>\n",
       "      <td>218</td>\n",
       "      <td>218</td>\n",
       "      <td>218</td>\n",
       "      <td>0</td>\n",
       "      <td>218</td>\n",
       "      <td>129</td>\n",
       "      <td>218</td>\n",
       "    </tr>\n",
       "  </tbody>\n",
       "</table>\n",
       "</div>"
      ],
      "text/plain": [
       "             id  nombreyapellido  cuil  telefono_cliente  mail_cliente  \\\n",
       "created_at                                                               \n",
       "2024-02-29  195              195   195               195           195   \n",
       "2024-03-31  273              273   273               273           273   \n",
       "2024-04-30  335              335   335               335           335   \n",
       "2024-05-31  307              307   307               307           307   \n",
       "2024-06-30  227              227   227               227           227   \n",
       "2024-07-31  218              218   218               218           218   \n",
       "\n",
       "            consulta  estado  token  subcategoria_id  deleted_at  updated_at  \\\n",
       "created_at                                                                     \n",
       "2024-02-29       195     195    195              195           0         195   \n",
       "2024-03-31       273     273    273              273           0         273   \n",
       "2024-04-30       335     335    335              335           0         335   \n",
       "2024-05-31       307     307    307              307           0         307   \n",
       "2024-06-30       227     227    227              227           0         227   \n",
       "2024-07-31       218     218    218              218           0         218   \n",
       "\n",
       "            id_responsable  recibo_digital_id  \n",
       "created_at                                     \n",
       "2024-02-29             117                195  \n",
       "2024-03-31             149                273  \n",
       "2024-04-30             132                335  \n",
       "2024-05-31             109                307  \n",
       "2024-06-30             116                227  \n",
       "2024-07-31             129                218  "
      ]
     },
     "execution_count": 6,
     "metadata": {},
     "output_type": "execute_result"
    }
   ],
   "source": [
    "# mes actual\n",
    "\n",
    "# generar barras de consultas para el corriente mes\n",
    "\n",
    "df.groupby(pd.Grouper(key=\"created_at\", freq=\"M\")).count()\n"
   ]
  },
  {
   "cell_type": "code",
   "execution_count": null,
   "metadata": {},
   "outputs": [],
   "source": []
  }
 ],
 "metadata": {
  "kernelspec": {
   "display_name": ".venv",
   "language": "python",
   "name": "python3"
  },
  "language_info": {
   "codemirror_mode": {
    "name": "ipython",
    "version": 3
   },
   "file_extension": ".py",
   "mimetype": "text/x-python",
   "name": "python",
   "nbconvert_exporter": "python",
   "pygments_lexer": "ipython3",
   "version": "3.12.5"
  }
 },
 "nbformat": 4,
 "nbformat_minor": 2
}

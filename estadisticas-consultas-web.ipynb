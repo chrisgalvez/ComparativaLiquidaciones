{
 "cells": [
  {
   "cell_type": "markdown",
   "metadata": {},
   "source": [
    "# ESTADISTICAS DEL SISTEMA DE CONSULTAS WEB\n"
   ]
  },
  {
   "cell_type": "code",
   "execution_count": null,
   "metadata": {},
   "outputs": [],
   "source": [
    "import pandas as pd\n",
    "import numpy as np\n",
    "import matplotlib as plt\n",
    "from sqlalchemy import engine\n",
    "\n",
    "engine = engine.create_engine('mssql+pyodbc://IPSDB-Replica/Noticias?driver=ODBC+Driver+17+for+SQL+Server')\n",
    "FECHA_DESDE = '2024-01-01'\n",
    "FECHA_HASTA = '2024-06-01'\n",
    "CATEGORIA = 4"
   ]
  },
  {
   "cell_type": "code",
   "execution_count": null,
   "metadata": {},
   "outputs": [],
   "source": [
    "consulta = f\"\"\"SELECT c.* FROM CONSULTAS C INNER JOIN SUBCATEGORIA_CONSULTAS S ON S.CATEGORIA_ID=C.SUBCATEGORIA_ID INNER JOIN CATEGORIAS CA \n",
    "ON CA.ID = S.CATEGORIA_ID WHERE C.created_at >= '{FECHA_DESDE}' AND C.created_at < '{FECHA_HASTA}'\"\"\"\n",
    "\n",
    "df = pd.read_sql(consulta, engine)"
   ]
  },
  {
   "cell_type": "code",
   "execution_count": null,
   "metadata": {},
   "outputs": [],
   "source": [
    "df"
   ]
  },
  {
   "cell_type": "code",
   "execution_count": null,
   "metadata": {},
   "outputs": [],
   "source": [
    "df.columns"
   ]
  },
  {
   "cell_type": "code",
   "execution_count": null,
   "metadata": {},
   "outputs": [],
   "source": []
  }
 ],
 "metadata": {
  "kernelspec": {
   "display_name": ".venv",
   "language": "python",
   "name": "python3"
  },
  "language_info": {
   "codemirror_mode": {
    "name": "ipython",
    "version": 3
   },
   "file_extension": ".py",
   "mimetype": "text/x-python",
   "name": "python",
   "nbconvert_exporter": "python",
   "pygments_lexer": "ipython3",
   "version": "3.12.3"
  }
 },
 "nbformat": 4,
 "nbformat_minor": 2
}
